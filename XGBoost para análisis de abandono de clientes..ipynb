{
 "cells": [
  {
   "cell_type": "markdown",
   "id": "21081474",
   "metadata": {},
   "source": [
    "import pandas as pd\n",
    "from sklearn.model_selection import train_test_split\n",
    "from sklearn.linear_model import LogisticRegression\n",
    "from sklearn.metrics import accuracy_score\n",
    "\n",
    " Cargar el dataset\n",
    "dataset = pd.read_csv('dataset.csv')  # Reemplaza 'nombre_del_archivo.csv' con el nombre real de tu archivo\n",
    "\n",
    " Separar las características (X) y la variable objetivo (y)\n",
    "X = dataset.drop('Customer Status', axis=1)  # Reemplaza 'Variable Objetivo' con el nombre real de tu variable objetivo\n",
    "y = dataset['Customer Status']\n",
    "\n",
    " Dividir el dataset en conjunto de entrenamiento y conjunto de prueba\n",
    "X_train, X_test, y_train, y_test = train_test_split(X, y, test_size=0.2, random_state=42)\n",
    "\n",
    " Crear y entrenar el modelo de regresión logística\n",
    "model = LogisticRegression()\n",
    "model.fit(X_train, y_train)\n",
    "\n",
    " Realizar predicciones en el conjunto de prueba\n",
    "y_pred = model.predict(X_test)\n",
    "\n",
    " Calcular la precisión del modelo\n",
    "accuracy = accuracy_score(y_test, y_pred)\n",
    "print('Precisión del modelo:', accuracy)\n"
   ]
  },
  {
   "cell_type": "code",
   "execution_count": 69,
   "id": "715157f6",
   "metadata": {},
   "outputs": [],
   "source": [
    "import numpy as np\n",
    "import seaborn as sns\n",
    "import matplotlib.pyplot as plt\n",
    "import warnings\n",
    "import pandas as pd\n",
    "import xgboost as xgb\n",
    "from sklearn.model_selection import train_test_split\n",
    "from sklearn.metrics import accuracy_score\n",
    "from sklearn.preprocessing import LabelEncoder\n",
    "\n",
    "warnings.filterwarnings(\"ignore\")\n",
    "\n",
    "# Cargar el dataset\n",
    "df = pd.read_csv('dataset.csv')  # Reemplaza 'tu_archivo.csv' con el nombre de tu archivo de datos\n"
   ]
  },
  {
   "cell_type": "code",
   "execution_count": null,
   "id": "7b558761",
   "metadata": {},
   "outputs": [],
   "source": [
    "#Convertir las clases stayed y joined en una sola\n",
    "df['Customer Status'] = df['Customer Status'].replace({'Joined': 'Stayed'})"
   ]
  },
  {
   "cell_type": "code",
   "execution_count": 71,
   "id": "f68647e9",
   "metadata": {},
   "outputs": [],
   "source": [
    "#convertir variables categoricas en variables numéricas\n",
    "#churned 1\n",
    "#stayed 0\n",
    "label_encoder = LabelEncoder()\n",
    "df['Customer Status'] = label_encoder.fit_transform(df['Customer Status'])\n",
    "\n",
    "# Me habia convertido churned en 0\n",
    "inverted_labels = 1 - df['Customer Status']\n",
    "df['Customer Status'] = inverted_labels"
   ]
  },
  {
   "cell_type": "code",
   "execution_count": 159,
   "id": "b1c5afb6",
   "metadata": {},
   "outputs": [],
   "source": [
    "df_encoded = df"
   ]
  },
  {
   "cell_type": "code",
   "execution_count": 160,
   "id": "24cb3850",
   "metadata": {},
   "outputs": [],
   "source": [
    "for column in df_encoded.columns:\n",
    "    # Verificar si la columna es de tipo 'object' (categórica)\n",
    "    if df_encoded[column].dtype == 'object':\n",
    "        # Aplicar LabelEncoder a la columna categórica\n",
    "        df_encoded[column] = label_encoder.fit_transform(df_encoded[column])"
   ]
  },
  {
   "cell_type": "code",
   "execution_count": null,
   "id": "2835e040",
   "metadata": {
    "scrolled": true
   },
   "outputs": [],
   "source": []
  },
  {
   "cell_type": "markdown",
   "id": "4363b018",
   "metadata": {},
   "source": [
    "Según los estándares modernos, es un conjunto de datos relativamente pequeño, con solo 7043 registros, donde cada registro usa 38 atributos para describir el perfil de un cliente de una Telecom en California, y 1869 de ellos son clientes que abandonaron la compañia.\n",
    "\n",
    "df.info()"
   ]
  },
  {
   "cell_type": "code",
   "execution_count": 164,
   "id": "410d4c8b",
   "metadata": {},
   "outputs": [
    {
     "data": {
      "text/html": [
       "<div>\n",
       "<style scoped>\n",
       "    .dataframe tbody tr th:only-of-type {\n",
       "        vertical-align: middle;\n",
       "    }\n",
       "\n",
       "    .dataframe tbody tr th {\n",
       "        vertical-align: top;\n",
       "    }\n",
       "\n",
       "    .dataframe thead th {\n",
       "        text-align: right;\n",
       "    }\n",
       "</style>\n",
       "<table border=\"1\" class=\"dataframe\">\n",
       "  <thead>\n",
       "    <tr style=\"text-align: right;\">\n",
       "      <th></th>\n",
       "      <th>Gender</th>\n",
       "      <th>Age</th>\n",
       "      <th>Married</th>\n",
       "      <th>Number of Dependents</th>\n",
       "      <th>Number of Referrals</th>\n",
       "      <th>Tenure in Months</th>\n",
       "      <th>Offer</th>\n",
       "      <th>Phone Service</th>\n",
       "      <th>Avg Monthly Long Distance Charges</th>\n",
       "      <th>Multiple Lines</th>\n",
       "      <th>...</th>\n",
       "      <th>Payment Method</th>\n",
       "      <th>Monthly Charge</th>\n",
       "      <th>Total Charges</th>\n",
       "      <th>Total Refunds</th>\n",
       "      <th>Total Extra Data Charges</th>\n",
       "      <th>Total Long Distance Charges</th>\n",
       "      <th>Total Revenue</th>\n",
       "      <th>Customer Status</th>\n",
       "      <th>Churn Category</th>\n",
       "      <th>Churn Reason</th>\n",
       "    </tr>\n",
       "  </thead>\n",
       "  <tbody>\n",
       "    <tr>\n",
       "      <th>0</th>\n",
       "      <td>0</td>\n",
       "      <td>37</td>\n",
       "      <td>1</td>\n",
       "      <td>0</td>\n",
       "      <td>2</td>\n",
       "      <td>9</td>\n",
       "      <td>5</td>\n",
       "      <td>1</td>\n",
       "      <td>42.39</td>\n",
       "      <td>0</td>\n",
       "      <td>...</td>\n",
       "      <td>1</td>\n",
       "      <td>65.6</td>\n",
       "      <td>593.30</td>\n",
       "      <td>0.00</td>\n",
       "      <td>0</td>\n",
       "      <td>381.51</td>\n",
       "      <td>974.81</td>\n",
       "      <td>0</td>\n",
       "      <td>5</td>\n",
       "      <td>20</td>\n",
       "    </tr>\n",
       "    <tr>\n",
       "      <th>1</th>\n",
       "      <td>1</td>\n",
       "      <td>46</td>\n",
       "      <td>0</td>\n",
       "      <td>0</td>\n",
       "      <td>0</td>\n",
       "      <td>9</td>\n",
       "      <td>5</td>\n",
       "      <td>1</td>\n",
       "      <td>10.69</td>\n",
       "      <td>1</td>\n",
       "      <td>...</td>\n",
       "      <td>1</td>\n",
       "      <td>-4.0</td>\n",
       "      <td>542.40</td>\n",
       "      <td>38.33</td>\n",
       "      <td>10</td>\n",
       "      <td>96.21</td>\n",
       "      <td>610.28</td>\n",
       "      <td>0</td>\n",
       "      <td>5</td>\n",
       "      <td>20</td>\n",
       "    </tr>\n",
       "    <tr>\n",
       "      <th>2</th>\n",
       "      <td>1</td>\n",
       "      <td>50</td>\n",
       "      <td>0</td>\n",
       "      <td>0</td>\n",
       "      <td>0</td>\n",
       "      <td>4</td>\n",
       "      <td>4</td>\n",
       "      <td>1</td>\n",
       "      <td>33.65</td>\n",
       "      <td>0</td>\n",
       "      <td>...</td>\n",
       "      <td>0</td>\n",
       "      <td>73.9</td>\n",
       "      <td>280.85</td>\n",
       "      <td>0.00</td>\n",
       "      <td>0</td>\n",
       "      <td>134.60</td>\n",
       "      <td>415.45</td>\n",
       "      <td>1</td>\n",
       "      <td>1</td>\n",
       "      <td>2</td>\n",
       "    </tr>\n",
       "    <tr>\n",
       "      <th>3</th>\n",
       "      <td>1</td>\n",
       "      <td>78</td>\n",
       "      <td>1</td>\n",
       "      <td>0</td>\n",
       "      <td>1</td>\n",
       "      <td>13</td>\n",
       "      <td>3</td>\n",
       "      <td>1</td>\n",
       "      <td>27.82</td>\n",
       "      <td>0</td>\n",
       "      <td>...</td>\n",
       "      <td>0</td>\n",
       "      <td>98.0</td>\n",
       "      <td>1237.85</td>\n",
       "      <td>0.00</td>\n",
       "      <td>0</td>\n",
       "      <td>361.66</td>\n",
       "      <td>1599.51</td>\n",
       "      <td>1</td>\n",
       "      <td>2</td>\n",
       "      <td>18</td>\n",
       "    </tr>\n",
       "    <tr>\n",
       "      <th>4</th>\n",
       "      <td>0</td>\n",
       "      <td>75</td>\n",
       "      <td>1</td>\n",
       "      <td>0</td>\n",
       "      <td>3</td>\n",
       "      <td>3</td>\n",
       "      <td>5</td>\n",
       "      <td>1</td>\n",
       "      <td>7.38</td>\n",
       "      <td>0</td>\n",
       "      <td>...</td>\n",
       "      <td>1</td>\n",
       "      <td>83.9</td>\n",
       "      <td>267.40</td>\n",
       "      <td>0.00</td>\n",
       "      <td>0</td>\n",
       "      <td>22.14</td>\n",
       "      <td>289.54</td>\n",
       "      <td>1</td>\n",
       "      <td>2</td>\n",
       "      <td>14</td>\n",
       "    </tr>\n",
       "  </tbody>\n",
       "</table>\n",
       "<p>5 rows × 33 columns</p>\n",
       "</div>"
      ],
      "text/plain": [
       "   Gender  Age  Married  Number of Dependents  Number of Referrals   \n",
       "0       0   37        1                     0                    2  \\\n",
       "1       1   46        0                     0                    0   \n",
       "2       1   50        0                     0                    0   \n",
       "3       1   78        1                     0                    1   \n",
       "4       0   75        1                     0                    3   \n",
       "\n",
       "   Tenure in Months  Offer  Phone Service  Avg Monthly Long Distance Charges   \n",
       "0                 9      5              1                              42.39  \\\n",
       "1                 9      5              1                              10.69   \n",
       "2                 4      4              1                              33.65   \n",
       "3                13      3              1                              27.82   \n",
       "4                 3      5              1                               7.38   \n",
       "\n",
       "   Multiple Lines  ...  Payment Method  Monthly Charge  Total Charges   \n",
       "0               0  ...               1            65.6         593.30  \\\n",
       "1               1  ...               1            -4.0         542.40   \n",
       "2               0  ...               0            73.9         280.85   \n",
       "3               0  ...               0            98.0        1237.85   \n",
       "4               0  ...               1            83.9         267.40   \n",
       "\n",
       "   Total Refunds  Total Extra Data Charges  Total Long Distance Charges   \n",
       "0           0.00                         0                       381.51  \\\n",
       "1          38.33                        10                        96.21   \n",
       "2           0.00                         0                       134.60   \n",
       "3           0.00                         0                       361.66   \n",
       "4           0.00                         0                        22.14   \n",
       "\n",
       "   Total Revenue  Customer Status  Churn Category  Churn Reason  \n",
       "0         974.81                0               5            20  \n",
       "1         610.28                0               5            20  \n",
       "2         415.45                1               1             2  \n",
       "3        1599.51                1               2            18  \n",
       "4         289.54                1               2            14  \n",
       "\n",
       "[5 rows x 33 columns]"
      ]
     },
     "execution_count": 164,
     "metadata": {},
     "output_type": "execute_result"
    }
   ],
   "source": [
    "df_encoded.head()\n",
    "\n"
   ]
  },
  {
   "cell_type": "code",
   "execution_count": null,
   "id": "7feba6f9",
   "metadata": {},
   "outputs": [],
   "source": []
  },
  {
   "cell_type": "markdown",
   "id": "cd98d8af",
   "metadata": {},
   "source": [
    "### Las variables categoricas se encodean o se cambian a numeros y las variables numericas se normalizan o estandarizan depende el caso.\n",
    "\n",
    "si tenemos un desbalance entra la clase a predecir deberiamos rellenar con datos creados, por ejemplo SMOTE"
   ]
  },
  {
   "cell_type": "code",
   "execution_count": 170,
   "id": "362baebd",
   "metadata": {},
   "outputs": [],
   "source": [
    "drop = ['Avg Monthly Long Distance Charges','Avg Monthly GB Download']\n",
    "\n",
    "df.drop(drop, axis=1, inplace=True)"
   ]
  },
  {
   "cell_type": "code",
   "execution_count": 171,
   "id": "213fcc2d",
   "metadata": {},
   "outputs": [],
   "source": [
    "from sklearn.model_selection import train_test_split\n",
    "from sklearn.linear_model import LogisticRegression\n"
   ]
  },
  {
   "cell_type": "code",
   "execution_count": 172,
   "id": "4a818fd1",
   "metadata": {},
   "outputs": [
    {
     "name": "stdout",
     "output_type": "stream",
     "text": [
      "Gender                         0\n",
      "Age                            0\n",
      "Married                        0\n",
      "Number of Dependents           0\n",
      "Number of Referrals            0\n",
      "Tenure in Months               0\n",
      "Offer                          0\n",
      "Phone Service                  0\n",
      "Multiple Lines                 0\n",
      "Internet Service               0\n",
      "Internet Type                  0\n",
      "Online Security                0\n",
      "Online Backup                  0\n",
      "Device Protection Plan         0\n",
      "Premium Tech Support           0\n",
      "Streaming TV                   0\n",
      "Streaming Movies               0\n",
      "Streaming Music                0\n",
      "Unlimited Data                 0\n",
      "Contract                       0\n",
      "Paperless Billing              0\n",
      "Payment Method                 0\n",
      "Monthly Charge                 0\n",
      "Total Charges                  0\n",
      "Total Refunds                  0\n",
      "Total Extra Data Charges       0\n",
      "Total Long Distance Charges    0\n",
      "Total Revenue                  0\n",
      "Customer Status                0\n",
      "Churn Category                 0\n",
      "Churn Reason                   0\n",
      "dtype: int64\n"
     ]
    }
   ],
   "source": [
    "nan_values = df_encoded.isna().sum()\n",
    "print(nan_values)"
   ]
  },
  {
   "cell_type": "code",
   "execution_count": 173,
   "id": "6d944dc3",
   "metadata": {},
   "outputs": [
    {
     "name": "stdout",
     "output_type": "stream",
     "text": [
      "Gender                         0\n",
      "Age                            0\n",
      "Married                        0\n",
      "Number of Dependents           0\n",
      "Number of Referrals            0\n",
      "Tenure in Months               0\n",
      "Offer                          0\n",
      "Phone Service                  0\n",
      "Multiple Lines                 0\n",
      "Internet Service               0\n",
      "Internet Type                  0\n",
      "Online Security                0\n",
      "Online Backup                  0\n",
      "Device Protection Plan         0\n",
      "Premium Tech Support           0\n",
      "Streaming TV                   0\n",
      "Streaming Movies               0\n",
      "Streaming Music                0\n",
      "Unlimited Data                 0\n",
      "Contract                       0\n",
      "Paperless Billing              0\n",
      "Payment Method                 0\n",
      "Monthly Charge                 0\n",
      "Total Charges                  0\n",
      "Total Refunds                  0\n",
      "Total Extra Data Charges       0\n",
      "Total Long Distance Charges    0\n",
      "Total Revenue                  0\n",
      "Customer Status                0\n",
      "Churn Category                 0\n",
      "Churn Reason                   0\n",
      "dtype: int64\n"
     ]
    }
   ],
   "source": [
    "nan_values = df_encoded.isnull().sum()\n",
    "print(nan_values)"
   ]
  },
  {
   "cell_type": "code",
   "execution_count": 176,
   "id": "071329b1",
   "metadata": {},
   "outputs": [
    {
     "data": {
      "text/html": [
       "<div>\n",
       "<style scoped>\n",
       "    .dataframe tbody tr th:only-of-type {\n",
       "        vertical-align: middle;\n",
       "    }\n",
       "\n",
       "    .dataframe tbody tr th {\n",
       "        vertical-align: top;\n",
       "    }\n",
       "\n",
       "    .dataframe thead th {\n",
       "        text-align: right;\n",
       "    }\n",
       "</style>\n",
       "<table border=\"1\" class=\"dataframe\">\n",
       "  <thead>\n",
       "    <tr style=\"text-align: right;\">\n",
       "      <th></th>\n",
       "      <th>Gender</th>\n",
       "      <th>Age</th>\n",
       "      <th>Married</th>\n",
       "      <th>Number of Dependents</th>\n",
       "      <th>Number of Referrals</th>\n",
       "      <th>Tenure in Months</th>\n",
       "      <th>Offer</th>\n",
       "      <th>Phone Service</th>\n",
       "      <th>Multiple Lines</th>\n",
       "      <th>Internet Service</th>\n",
       "      <th>...</th>\n",
       "      <th>Payment Method</th>\n",
       "      <th>Monthly Charge</th>\n",
       "      <th>Total Charges</th>\n",
       "      <th>Total Refunds</th>\n",
       "      <th>Total Extra Data Charges</th>\n",
       "      <th>Total Long Distance Charges</th>\n",
       "      <th>Total Revenue</th>\n",
       "      <th>Customer Status</th>\n",
       "      <th>Churn Category</th>\n",
       "      <th>Churn Reason</th>\n",
       "    </tr>\n",
       "  </thead>\n",
       "  <tbody>\n",
       "    <tr>\n",
       "      <th>0</th>\n",
       "      <td>0</td>\n",
       "      <td>37</td>\n",
       "      <td>1</td>\n",
       "      <td>0</td>\n",
       "      <td>2</td>\n",
       "      <td>9</td>\n",
       "      <td>5</td>\n",
       "      <td>1</td>\n",
       "      <td>0</td>\n",
       "      <td>1</td>\n",
       "      <td>...</td>\n",
       "      <td>1</td>\n",
       "      <td>65.6</td>\n",
       "      <td>593.30</td>\n",
       "      <td>0.00</td>\n",
       "      <td>0</td>\n",
       "      <td>381.51</td>\n",
       "      <td>974.81</td>\n",
       "      <td>0</td>\n",
       "      <td>5</td>\n",
       "      <td>20</td>\n",
       "    </tr>\n",
       "    <tr>\n",
       "      <th>1</th>\n",
       "      <td>1</td>\n",
       "      <td>46</td>\n",
       "      <td>0</td>\n",
       "      <td>0</td>\n",
       "      <td>0</td>\n",
       "      <td>9</td>\n",
       "      <td>5</td>\n",
       "      <td>1</td>\n",
       "      <td>1</td>\n",
       "      <td>1</td>\n",
       "      <td>...</td>\n",
       "      <td>1</td>\n",
       "      <td>-4.0</td>\n",
       "      <td>542.40</td>\n",
       "      <td>38.33</td>\n",
       "      <td>10</td>\n",
       "      <td>96.21</td>\n",
       "      <td>610.28</td>\n",
       "      <td>0</td>\n",
       "      <td>5</td>\n",
       "      <td>20</td>\n",
       "    </tr>\n",
       "    <tr>\n",
       "      <th>2</th>\n",
       "      <td>1</td>\n",
       "      <td>50</td>\n",
       "      <td>0</td>\n",
       "      <td>0</td>\n",
       "      <td>0</td>\n",
       "      <td>4</td>\n",
       "      <td>4</td>\n",
       "      <td>1</td>\n",
       "      <td>0</td>\n",
       "      <td>1</td>\n",
       "      <td>...</td>\n",
       "      <td>0</td>\n",
       "      <td>73.9</td>\n",
       "      <td>280.85</td>\n",
       "      <td>0.00</td>\n",
       "      <td>0</td>\n",
       "      <td>134.60</td>\n",
       "      <td>415.45</td>\n",
       "      <td>1</td>\n",
       "      <td>1</td>\n",
       "      <td>2</td>\n",
       "    </tr>\n",
       "    <tr>\n",
       "      <th>3</th>\n",
       "      <td>1</td>\n",
       "      <td>78</td>\n",
       "      <td>1</td>\n",
       "      <td>0</td>\n",
       "      <td>1</td>\n",
       "      <td>13</td>\n",
       "      <td>3</td>\n",
       "      <td>1</td>\n",
       "      <td>0</td>\n",
       "      <td>1</td>\n",
       "      <td>...</td>\n",
       "      <td>0</td>\n",
       "      <td>98.0</td>\n",
       "      <td>1237.85</td>\n",
       "      <td>0.00</td>\n",
       "      <td>0</td>\n",
       "      <td>361.66</td>\n",
       "      <td>1599.51</td>\n",
       "      <td>1</td>\n",
       "      <td>2</td>\n",
       "      <td>18</td>\n",
       "    </tr>\n",
       "    <tr>\n",
       "      <th>4</th>\n",
       "      <td>0</td>\n",
       "      <td>75</td>\n",
       "      <td>1</td>\n",
       "      <td>0</td>\n",
       "      <td>3</td>\n",
       "      <td>3</td>\n",
       "      <td>5</td>\n",
       "      <td>1</td>\n",
       "      <td>0</td>\n",
       "      <td>1</td>\n",
       "      <td>...</td>\n",
       "      <td>1</td>\n",
       "      <td>83.9</td>\n",
       "      <td>267.40</td>\n",
       "      <td>0.00</td>\n",
       "      <td>0</td>\n",
       "      <td>22.14</td>\n",
       "      <td>289.54</td>\n",
       "      <td>1</td>\n",
       "      <td>2</td>\n",
       "      <td>14</td>\n",
       "    </tr>\n",
       "  </tbody>\n",
       "</table>\n",
       "<p>5 rows × 31 columns</p>\n",
       "</div>"
      ],
      "text/plain": [
       "   Gender  Age  Married  Number of Dependents  Number of Referrals   \n",
       "0       0   37        1                     0                    2  \\\n",
       "1       1   46        0                     0                    0   \n",
       "2       1   50        0                     0                    0   \n",
       "3       1   78        1                     0                    1   \n",
       "4       0   75        1                     0                    3   \n",
       "\n",
       "   Tenure in Months  Offer  Phone Service  Multiple Lines  Internet Service   \n",
       "0                 9      5              1               0                 1  \\\n",
       "1                 9      5              1               1                 1   \n",
       "2                 4      4              1               0                 1   \n",
       "3                13      3              1               0                 1   \n",
       "4                 3      5              1               0                 1   \n",
       "\n",
       "   ...  Payment Method  Monthly Charge  Total Charges  Total Refunds   \n",
       "0  ...               1            65.6         593.30           0.00  \\\n",
       "1  ...               1            -4.0         542.40          38.33   \n",
       "2  ...               0            73.9         280.85           0.00   \n",
       "3  ...               0            98.0        1237.85           0.00   \n",
       "4  ...               1            83.9         267.40           0.00   \n",
       "\n",
       "   Total Extra Data Charges  Total Long Distance Charges  Total Revenue   \n",
       "0                         0                       381.51         974.81  \\\n",
       "1                        10                        96.21         610.28   \n",
       "2                         0                       134.60         415.45   \n",
       "3                         0                       361.66        1599.51   \n",
       "4                         0                        22.14         289.54   \n",
       "\n",
       "   Customer Status  Churn Category  Churn Reason  \n",
       "0                0               5            20  \n",
       "1                0               5            20  \n",
       "2                1               1             2  \n",
       "3                1               2            18  \n",
       "4                1               2            14  \n",
       "\n",
       "[5 rows x 31 columns]"
      ]
     },
     "execution_count": 176,
     "metadata": {},
     "output_type": "execute_result"
    }
   ],
   "source": [
    "df_encoded.head()"
   ]
  },
  {
   "cell_type": "code",
   "execution_count": 175,
   "id": "a7a1f008",
   "metadata": {
    "scrolled": true
   },
   "outputs": [
    {
     "name": "stdout",
     "output_type": "stream",
     "text": [
      "Feature: Gender, Score: 0.00403\n",
      "Feature: Age, Score: 0.05786\n",
      "Feature: Married, Score: 0.00293\n",
      "Feature: Number of Dependents, Score: -0.01628\n",
      "Feature: Number of Referrals, Score: -0.07764\n",
      "Feature: Tenure in Months, Score: 0.06312\n",
      "Feature: Offer, Score: 0.04146\n",
      "Feature: Phone Service, Score: 0.00180\n",
      "Feature: Multiple Lines, Score: 0.01669\n",
      "Feature: Internet Service, Score: 0.00888\n",
      "Feature: Internet Type, Score: 0.00476\n",
      "Feature: Online Security, Score: -0.00628\n",
      "Feature: Online Backup, Score: -0.00141\n",
      "Feature: Device Protection Plan, Score: -0.00248\n",
      "Feature: Premium Tech Support, Score: -0.00689\n",
      "Feature: Streaming TV, Score: -0.00078\n",
      "Feature: Streaming Movies, Score: -0.00095\n",
      "Feature: Streaming Music, Score: 0.00428\n",
      "Feature: Unlimited Data, Score: 0.00841\n",
      "Feature: Contract, Score: -0.03106\n",
      "Feature: Paperless Billing, Score: 0.01133\n",
      "Feature: Payment Method, Score: 0.00151\n",
      "Feature: Monthly Charge, Score: 0.08047\n",
      "Feature: Total Charges, Score: 0.00418\n",
      "Feature: Total Refunds, Score: 0.02045\n",
      "Feature: Total Extra Data Charges, Score: 0.00551\n",
      "Feature: Total Long Distance Charges, Score: 0.00536\n",
      "Feature: Total Revenue, Score: -0.00541\n",
      "Feature: Churn Category, Score: -0.16633\n",
      "Feature: Churn Reason, Score: -0.51988\n"
     ]
    }
   ],
   "source": [
    "X = df_encoded.drop('Customer Status',axis=1)\n",
    "\n",
    "y = df_encoded['Customer Status']\n",
    "\n",
    "X_train, X_test, y_train, y_test= train_test_split(X, y, test_size=0.25,random_state=47)\n",
    "\n",
    "model = LogisticRegression()\n",
    "\n",
    "model.fit(X_train, y_train)\n",
    "\n",
    "importance = model.coef_[0]\n",
    "for i, v in enumerate(importance):\n",
    "    feature_name = X_train.columns[i]  # Obtener el nombre de la característica desde X_train\n",
    "    print('Feature: %s, Score: %.5f' % (feature_name, v))"
   ]
  },
  {
   "cell_type": "code",
   "execution_count": 95,
   "id": "aeb1de8c",
   "metadata": {},
   "outputs": [],
   "source": [
    "# Voy a limpiar el dataset con las variables que claramente no me interesan"
   ]
  },
  {
   "cell_type": "markdown",
   "id": "6c93d682",
   "metadata": {},
   "source": [
    "### Nuestro objetivo es tratar de predecir si un cliente va a abandonar la compañia, nuestro porblema es de clasificacion binaria con una variable objetivo desbalanceada.\n",
    "\n",
    "El desequilibrio de clases puede presentar desafíos al entrenar un modelo de ML, ya que el modelo tiende a crear un sesgo hacia la clase mayoritaria y puede tener dificultades para aprender patrones y hacer predicciones precisas para la clase minoritaria."
   ]
  },
  {
   "cell_type": "code",
   "execution_count": 96,
   "id": "87a9338b",
   "metadata": {},
   "outputs": [],
   "source": [
    "from sklearn.model_selection import train_test_split\n",
    "\n",
    "# Extract feature and target arrays\n",
    "X, y = df.drop('Customer Status', axis=1), df[['Customer Status']]"
   ]
  },
  {
   "cell_type": "code",
   "execution_count": 145,
   "id": "539a1c61",
   "metadata": {},
   "outputs": [],
   "source": [
    "# df.isnull().sum()"
   ]
  },
  {
   "cell_type": "markdown",
   "id": "19499f22",
   "metadata": {},
   "source": [
    "La mayoría de nuestros datos son categóricos.\n",
    "    Probaremos encoding.\n",
    "Los datos no contienen valores nulos\n",
    "    Esto simplifica nuestra tarea, ya que no habrá necesidad de manejar valores faltantes\n",
    "Nuestros datos numéricos se almacenan como int64 o float64\n",
    "    Dependiendo de la magnitud de los valores almacenados, esto podría representar una buena oportunidad para optimizar la memoria y el almacenamiento del sistema."
   ]
  },
  {
   "cell_type": "code",
   "execution_count": 98,
   "id": "be8154ee",
   "metadata": {},
   "outputs": [
    {
     "data": {
      "text/plain": [
       "Customer Status\n",
       "0    5174\n",
       "1    1869\n",
       "Name: count, dtype: int64"
      ]
     },
     "execution_count": 98,
     "metadata": {},
     "output_type": "execute_result"
    }
   ],
   "source": [
    "df['Customer Status'].value_counts()"
   ]
  },
  {
   "cell_type": "markdown",
   "id": "13aa5dbf",
   "metadata": {},
   "source": [
    "Está claro que existe un desequilibrio de clases en nuestro conjunto de datos porque el 26,5 % de los clientes abandonaron mientras que el 73,5 % de los clientes se quedaron.\n",
    "\n",
    "Dado que los modelos basados en árboles de decisión, como XGBoost, son susceptibles al sesgo de frecuencia, debemos abordar el desequilibrio de clases de una de dos maneras para que la distribución sea más equitativa:\n",
    "\n",
    "Submuestreo de la clase mayoritaria (el cliente se quedó)\n",
    "Sobremuestrear la clase minoritaria (cliente agitado)"
   ]
  },
  {
   "cell_type": "code",
   "execution_count": null,
   "id": "8af68231",
   "metadata": {},
   "outputs": [],
   "source": []
  },
  {
   "cell_type": "code",
   "execution_count": null,
   "id": "57c1c6a2",
   "metadata": {},
   "outputs": [],
   "source": []
  },
  {
   "cell_type": "code",
   "execution_count": 99,
   "id": "8b764840",
   "metadata": {},
   "outputs": [],
   "source": [
    "X,y = df.drop('Customer Status', axis = 1), df['Customer Status']"
   ]
  },
  {
   "cell_type": "code",
   "execution_count": 100,
   "id": "06599926",
   "metadata": {},
   "outputs": [],
   "source": []
  },
  {
   "cell_type": "code",
   "execution_count": 101,
   "id": "e0f8b20c",
   "metadata": {},
   "outputs": [],
   "source": [
    "# Convertir variables categorias a una DMatrix de XGBoost para que puedan ser interpretadas.\n",
    "# Extract text features\n",
    "categ = X.select_dtypes(exclude=np.number).columns.tolist()"
   ]
  },
  {
   "cell_type": "code",
   "execution_count": 103,
   "id": "59851eab",
   "metadata": {},
   "outputs": [],
   "source": [
    "# Convertir a la category con Pandas\n",
    "for col in categ:\n",
    "    X[col] = X[col].astype('category')\n"
   ]
  },
  {
   "cell_type": "code",
   "execution_count": 143,
   "id": "ded0fabf",
   "metadata": {},
   "outputs": [
    {
     "data": {
      "text/plain": [
       "(7043, 32)"
      ]
     },
     "execution_count": 143,
     "metadata": {},
     "output_type": "execute_result"
    }
   ],
   "source": [
    "X.shape"
   ]
  },
  {
   "cell_type": "code",
   "execution_count": null,
   "id": "3186fe5e",
   "metadata": {},
   "outputs": [],
   "source": []
  },
  {
   "cell_type": "code",
   "execution_count": null,
   "id": "8bd5027c",
   "metadata": {},
   "outputs": [],
   "source": []
  },
  {
   "cell_type": "code",
   "execution_count": 106,
   "id": "ef73555a",
   "metadata": {},
   "outputs": [],
   "source": [
    "X_train, X_test, y_train, y_test = train_test_split(X, y, test_size=0.2, random_state=42)"
   ]
  },
  {
   "cell_type": "code",
   "execution_count": 134,
   "id": "c1882b4a",
   "metadata": {},
   "outputs": [],
   "source": [
    "import xgboost as xgb\n",
    "\n",
    "# Create regression matrices\n",
    "dtrain_reg = xgb.DMatrix(X_train, y_train, enable_categorical=True)\n",
    "dtest_reg = xgb.DMatrix(X_test, y_test, enable_categorical=True)"
   ]
  },
  {
   "cell_type": "markdown",
   "id": "142b74c1",
   "metadata": {},
   "source": [
    "Después de construir las DMatrix, debemos elegir un valor para el parámetro objetivo. Le dice a XGBoost el problema de aprendizaje automático que está tratando de resolver y qué métricas o funciones de pérdida usar para resolver ese problema."
   ]
  },
  {
   "cell_type": "code",
   "execution_count": 132,
   "id": "a9f05717",
   "metadata": {},
   "outputs": [],
   "source": [
    "params = {\n",
    "    'objective': 'binary:logistic',\n",
    "    'eval_metric': 'logloss',\n",
    "    'eta': 0.1,\n",
    "    'max_depth': 3,\n",
    "    'min_child_weight': 1,\n",
    "    'gamma': 0,\n",
    "    'subsample': 0.8,\n",
    "    'colsample_bytree': 0.8,\n",
    "    'alpha': 0.1,\n",
    "    'lambda': 0.1,\n",
    "    'seed': 42\n",
    "}"
   ]
  },
  {
   "cell_type": "code",
   "execution_count": 133,
   "id": "ec7de8e5",
   "metadata": {},
   "outputs": [],
   "source": [
    "num_rounds = 100  # Número de rondas de entrenamiento\n",
    "model = xgb.train(params, dtrain_reg, num_rounds)"
   ]
  },
  {
   "cell_type": "code",
   "execution_count": 128,
   "id": "8da7221a",
   "metadata": {},
   "outputs": [],
   "source": [
    "y_pred = model.predict(dtest_reg)"
   ]
  },
  {
   "cell_type": "code",
   "execution_count": 131,
   "id": "ce1c69d7",
   "metadata": {},
   "outputs": [],
   "source": [
    "y_pred_prob = model.predict(dtest_reg, output_margin=True)"
   ]
  },
  {
   "cell_type": "code",
   "execution_count": 136,
   "id": "ca6f5f62",
   "metadata": {},
   "outputs": [],
   "source": [
    "y_pred = (y_pred_prob > 0.5).astype(int)"
   ]
  },
  {
   "cell_type": "code",
   "execution_count": 137,
   "id": "3127275e",
   "metadata": {},
   "outputs": [
    {
     "data": {
      "text/plain": [
       "array([0, 0, 0, ..., 1, 0, 0])"
      ]
     },
     "execution_count": 137,
     "metadata": {},
     "output_type": "execute_result"
    }
   ],
   "source": [
    "y_pred"
   ]
  },
  {
   "cell_type": "code",
   "execution_count": 139,
   "id": "b018612a",
   "metadata": {},
   "outputs": [
    {
     "name": "stdout",
     "output_type": "stream",
     "text": [
      "Precisión: 1.00\n",
      "Exhaustividad: 1.00\n",
      "Puntuación F1: 1.00\n",
      "Exactitud: 1.00\n"
     ]
    }
   ],
   "source": [
    "from sklearn.metrics import accuracy_score, precision_score, recall_score, f1_score\n",
    "accuracy = accuracy_score(y_test, y_pred)\n",
    "precision = precision_score(y_test, y_pred)\n",
    "recall = recall_score(y_test, y_pred)\n",
    "f1 = f1_score(y_test, y_pred)\n",
    "\n",
    "print(\"Precisión: %.2f\" % precision)\n",
    "print(\"Exhaustividad: %.2f\" % recall)\n",
    "print(\"Puntuación F1: %.2f\" % f1)\n",
    "print(\"Exactitud: %.2f\" % accuracy)"
   ]
  },
  {
   "cell_type": "code",
   "execution_count": null,
   "id": "0fa0dc67",
   "metadata": {},
   "outputs": [],
   "source": [
    "# Calcular la curva ROC\n",
    "fpr, tpr, thresholds = roc_curve(y_test, y_pred_prob)\n",
    "auc = roc_auc_score(y_test, y_pred_prob)\n",
    "\n",
    "# Graficar la curva ROC\n",
    "plt.plot(fpr, tpr, label='Curva ROC (AUC = %.2f)' % auc)\n",
    "plt.plot([0, 1], [0, 1], '--', color='gray', label='Clasificación aleatoria')\n",
    "plt.xlabel('Tasa de falsos positivos')\n",
    "plt.ylabel('Tasa de verdaderos positivos')\n",
    "plt.title('Curva ROC')\n",
    "plt.legend()\n",
    "plt.show()\n",
    "\n",
    "print(\"Área bajo la curva (AUC-ROC): %.2f\" % auc)"
   ]
  },
  {
   "cell_type": "code",
   "execution_count": null,
   "id": "80b2f459",
   "metadata": {},
   "outputs": [],
   "source": []
  },
  {
   "cell_type": "code",
   "execution_count": null,
   "id": "de01d2d6",
   "metadata": {},
   "outputs": [],
   "source": []
  },
  {
   "cell_type": "code",
   "execution_count": null,
   "id": "96963b6d",
   "metadata": {},
   "outputs": [],
   "source": []
  },
  {
   "cell_type": "code",
   "execution_count": null,
   "id": "d4e651bd",
   "metadata": {},
   "outputs": [],
   "source": [
    "from sklearn.linear_model import LogisticRegression\n",
    "from sklearn.discriminant_analysis import LinearDiscriminantAnalysis\n",
    "\n",
    "# Import non-linear ML algorithms\n",
    "from sklearn.neighbors import KNeighborsClassifier\n",
    "from sklearn.naive_bayes import GaussianNB\n",
    "from sklearn.svm import SVC\n",
    "from xgboost import XGBClassifier"
   ]
  },
  {
   "cell_type": "code",
   "execution_count": null,
   "id": "f1d96e92",
   "metadata": {},
   "outputs": [],
   "source": [
    "from sklearn.metrics import roc_curve, roc_auc_score\n",
    "import matplotlib.pyplot as plt\n",
    "\n",
    "fpr, tpr, thresholds = roc_curve(y_test, y_pred)\n",
    "auc = roc_auc_score(y_test, y_pred)\n",
    "\n",
    "plt.plot(fpr, tpr, label='Curva ROC (AUC = %.2f)' % auc)\n",
    "plt.plot([0, 1], [0, 1], '--', color='gray', label='Clasificación aleatoria')\n",
    "plt.xlabel('Tasa de falsos positivos')\n",
    "plt.ylabel('Tasa de verdaderos positivos')\n",
    "plt.title('Curva ROC')\n",
    "plt.legend()\n",
    "plt.show()\n",
    "\n",
    "print(\"Área bajo la curva (AUC-ROC): %.2f\" % auc)\n"
   ]
  },
  {
   "cell_type": "code",
   "execution_count": null,
   "id": "0a481c03",
   "metadata": {},
   "outputs": [],
   "source": []
  },
  {
   "cell_type": "code",
   "execution_count": null,
   "id": "87132673",
   "metadata": {},
   "outputs": [],
   "source": []
  },
  {
   "cell_type": "code",
   "execution_count": null,
   "id": "ba83f8c0",
   "metadata": {},
   "outputs": [],
   "source": []
  },
  {
   "cell_type": "code",
   "execution_count": null,
   "id": "faf7a8c9",
   "metadata": {},
   "outputs": [],
   "source": []
  }
 ],
 "metadata": {
  "kernelspec": {
   "display_name": "Python 3 (ipykernel)",
   "language": "python",
   "name": "python3"
  },
  "language_info": {
   "codemirror_mode": {
    "name": "ipython",
    "version": 3
   },
   "file_extension": ".py",
   "mimetype": "text/x-python",
   "name": "python",
   "nbconvert_exporter": "python",
   "pygments_lexer": "ipython3",
   "version": "3.9.16"
  }
 },
 "nbformat": 4,
 "nbformat_minor": 5
}
